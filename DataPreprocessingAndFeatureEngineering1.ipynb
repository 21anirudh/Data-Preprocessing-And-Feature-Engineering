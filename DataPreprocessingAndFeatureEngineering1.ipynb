{
  "nbformat": 4,
  "nbformat_minor": 0,
  "metadata": {
    "colab": {
      "provenance": [],
      "include_colab_link": true
    },
    "kernelspec": {
      "name": "python3",
      "display_name": "Python 3"
    },
    "language_info": {
      "name": "python"
    }
  },
  "cells": [
    {
      "cell_type": "markdown",
      "metadata": {
        "id": "view-in-github",
        "colab_type": "text"
      },
      "source": [
        "<a href=\"https://colab.research.google.com/github/21anirudh/Data-Preprocessing-And-Feature-Engineering/blob/main/DataPreprocessingAndFeatureEngineering1.ipynb\" target=\"_parent\"><img src=\"https://colab.research.google.com/assets/colab-badge.svg\" alt=\"Open In Colab\"/></a>"
      ]
    },
    {
      "cell_type": "code",
      "execution_count": 37,
      "metadata": {
        "id": "CyO6CxjOxCAt"
      },
      "outputs": [],
      "source": [
        "import numpy as np\n",
        "import pandas as pd\n",
        "import seaborn as sns\n",
        "from matplotlib import pyplot as plt\n",
        "from sklearn.neighbors import LocalOutlierFactor"
      ]
    },
    {
      "cell_type": "code",
      "source": [
        "df = pd.read_csv(\"diabetes.csv\")"
      ],
      "metadata": {
        "id": "BOKTF_eZxEzw"
      },
      "execution_count": 38,
      "outputs": []
    },
    {
      "cell_type": "code",
      "source": [
        "print(df.shape)\n",
        "print(df.head())"
      ],
      "metadata": {
        "id": "eEy5NI8dxmij",
        "colab": {
          "base_uri": "https://localhost:8080/"
        },
        "outputId": "2283f258-4d1d-4ca9-bdf4-7a225795beeb"
      },
      "execution_count": 39,
      "outputs": [
        {
          "output_type": "stream",
          "name": "stdout",
          "text": [
            "(2000, 9)\n",
            "   Pregnancies  Glucose  BloodPressure  SkinThickness  Insulin   BMI  \\\n",
            "0            2      138             62             35        0  33.6   \n",
            "1            0       84             82             31      125  38.2   \n",
            "2            0      145              0              0        0  44.2   \n",
            "3            0      135             68             42      250  42.3   \n",
            "4            1      139             62             41      480  40.7   \n",
            "\n",
            "   DiabetesPedigreeFunction  Age  Outcome  \n",
            "0                     0.127   47        1  \n",
            "1                     0.233   23        0  \n",
            "2                     0.630   31        1  \n",
            "3                     0.365   24        1  \n",
            "4                     0.536   21        0  \n"
          ]
        }
      ]
    },
    {
      "cell_type": "code",
      "source": [
        "sns.boxplot(x=df[\"Glucose\"])\n",
        "plt.show()"
      ],
      "metadata": {
        "id": "jwxEVZEAxpcS",
        "colab": {
          "base_uri": "https://localhost:8080/",
          "height": 449
        },
        "outputId": "a2ad48ca-8263-4918-9d25-5a3a16a70d5f"
      },
      "execution_count": 40,
      "outputs": [
        {
          "output_type": "display_data",
          "data": {
            "text/plain": [
              "<Figure size 640x480 with 1 Axes>"
            ],
            "image/png": "[encoded data removed]"
          },
          "metadata": {}
        }
      ]
    },
    {
      "cell_type": "code",
      "source": [
        "# Inter Quartile Range - Measure of spread of dataset\n",
        "q1 = df[\"Glucose\"].quantile(0.25)\n",
        "q3 = df[\"Glucose\"].quantile(0.75)\n",
        "iqr = q3 - q1\n",
        "up = q3 + 1.5 * iqr\n",
        "low = q1 - 1.5 * iqr"
      ],
      "metadata": {
        "id": "_Qju38_TyNIk"
      },
      "execution_count": 41,
      "outputs": []
    },
    {
      "cell_type": "code",
      "source": [
        "# Finding the Outliers\n",
        "print(df[(df[\"Glucose\"] < low) | (df[\"Glucose\"] > up)].any(axis=None))\n",
        "print(df[(df[\"Glucose\"] < low)].any(axis=None))\n",
        "print(df[(df[\"Glucose\"] < low) | (df[\"Glucose\"] > up)])\n",
        "print(df[(df[\"Glucose\"] < low) | (df[\"Glucose\"] > up)].index)"
      ],
      "metadata": {
        "id": "1wwVXMkAyT9o",
        "colab": {
          "base_uri": "https://localhost:8080/"
        },
        "outputId": "baf6be40-5d1c-4ec8-b802-227d6392d044"
      },
      "execution_count": 42,
      "outputs": [
        {
          "output_type": "stream",
          "name": "stdout",
          "text": [
            "True\n",
            "True\n",
            "      Pregnancies  Glucose  BloodPressure  SkinThickness  Insulin   BMI  \\\n",
            "20              6        0             68             41        0  39.0   \n",
            "75              1        0             48             20        0  24.7   \n",
            "182             1        0             74             20       23  27.7   \n",
            "342             1        0             68             35        0  32.0   \n",
            "349             5        0             80             32        0  41.0   \n",
            "502             6        0             68             41        0  39.0   \n",
            "812             1        0             68             35        0  32.0   \n",
            "819             5        0             80             32        0  41.0   \n",
            "972             6        0             68             41        0  39.0   \n",
            "1340            1        0             74             20       23  27.7   \n",
            "1595            1        0             68             35        0  32.0   \n",
            "1602            5        0             80             32        0  41.0   \n",
            "1896            1        0             48             20        0  24.7   \n",
            "\n",
            "      DiabetesPedigreeFunction  Age  Outcome  \n",
            "20                       0.727   41        1  \n",
            "75                       0.140   22        0  \n",
            "182                      0.299   21        0  \n",
            "342                      0.389   22        0  \n",
            "349                      0.346   37        1  \n",
            "502                      0.727   41        1  \n",
            "812                      0.389   22        0  \n",
            "819                      0.346   37        1  \n",
            "972                      0.727   41        1  \n",
            "1340                     0.299   21        0  \n",
            "1595                     0.389   22        0  \n",
            "1602                     0.346   37        1  \n",
            "1896                     0.140   22        0  \n",
            "Index([20, 75, 182, 342, 349, 502, 812, 819, 972, 1340, 1595, 1602, 1896], dtype='int64')\n"
          ]
        }
      ]
    },
    {
      "cell_type": "code",
      "source": [
        "def grab_col_names(dataframe, cat_th=10, car_th=20):\n",
        "    cat_cols = [col for col in dataframe.columns if dataframe[col].dtypes == \"O\"]\n",
        "    num_but_cat = [col for col in dataframe.columns if dataframe[col].nunique() < cat_th and dataframe[col].dtypes != \"O\"]\n",
        "    cat_but_car = [col for col in dataframe.columns if dataframe[col].nunique() > car_th and dataframe[col].dtypes == \"O\"]\n",
        "    cat_cols = cat_cols + num_but_cat\n",
        "    cat_cols = [col for col in cat_cols if col not in cat_but_car]\n",
        "    num_cols = [col for col in dataframe.columns if dataframe[col].dtypes != \"O\" and col not in num_but_cat]\n",
        "\n",
        "    print(f\"Observations: {dataframe.shape[0]}\")\n",
        "    print(f\"Variables: {dataframe.shape[1]}\")\n",
        "    print(f\"cat_cols: {len(cat_cols)}\")\n",
        "    print(f\"num_cols: {len(num_cols)}\")\n",
        "    print(f\"cat_but_car: {len(cat_but_car)}\")\n",
        "    print(f\"num_but_cat: {len(num_but_cat)}\")\n",
        "\n",
        "    return cat_cols, num_cols, cat_but_car\n",
        "\n",
        "cat_cols, num_cols, cat_but_car = grab_col_names(df)\n",
        "\n",
        "num_cols = [col for col in num_cols if col not in [\"id\"]]\n",
        "print(num_cols)\n",
        "\n",
        "# Checking outliers in numerical columns of df\n",
        "for col in num_cols:\n",
        "    print(df[(df[col] < low) | (df[col] > up)].any(axis=None))"
      ],
      "metadata": {
        "id": "4O8Px5yAyghw",
        "colab": {
          "base_uri": "https://localhost:8080/"
        },
        "outputId": "39285167-685c-4cea-c386-7a6e961c4b3e"
      },
      "execution_count": 43,
      "outputs": [
        {
          "output_type": "stream",
          "name": "stdout",
          "text": [
            "Observations: 2000\n",
            "Variables: 9\n",
            "cat_cols: 1\n",
            "num_cols: 8\n",
            "cat_but_car: 0\n",
            "num_but_cat: 1\n",
            "['Pregnancies', 'Glucose', 'BloodPressure', 'SkinThickness', 'Insulin', 'BMI', 'DiabetesPedigreeFunction', 'Age']\n",
            "True\n",
            "True\n",
            "True\n",
            "True\n",
            "True\n",
            "True\n",
            "True\n",
            "True\n"
          ]
        }
      ]
    },
    {
      "cell_type": "code",
      "source": [
        "def grab_outliers(dataframe, col_name, outlier_index=False, f = 5):\n",
        "    quartile1 = dataframe[col_name].quantile(0.25)\n",
        "    quartile3 = dataframe[col_name].quantile(0.75)\n",
        "    interquantile_range = quartile3 - quartile1\n",
        "    up = quartile3 + 1.5 * interquantile_range\n",
        "    low = quartile1 - 1.5 * interquantile_range\n",
        "\n",
        "    if dataframe[((dataframe[col_name] < low) | (dataframe[col_name] > up))].shape[0] > 10:\n",
        "        print(dataframe[((dataframe[col_name] < low) | (dataframe[col_name] > up))].head(f))\n",
        "    else:\n",
        "        print(dataframe[((dataframe[col_name] < low) | (dataframe[col_name] > up))])\n",
        "\n",
        "    if outlier_index:\n",
        "        out_index = dataframe[((dataframe[col_name] < low) | (dataframe[col_name] > up))].index\n",
        "        return out_index\n",
        "\n",
        "Glucose_index = grab_outliers(df, \"Glucose\", True)\n",
        "print(Glucose_index)"
      ],
      "metadata": {
        "id": "eF0IeUyv0n2B",
        "colab": {
          "base_uri": "https://localhost:8080/"
        },
        "outputId": "68ba6b7e-ef41-420b-c485-9196e8137fcf"
      },
      "execution_count": 44,
      "outputs": [
        {
          "output_type": "stream",
          "name": "stdout",
          "text": [
            "     Pregnancies  Glucose  BloodPressure  SkinThickness  Insulin   BMI  \\\n",
            "20             6        0             68             41        0  39.0   \n",
            "75             1        0             48             20        0  24.7   \n",
            "182            1        0             74             20       23  27.7   \n",
            "342            1        0             68             35        0  32.0   \n",
            "349            5        0             80             32        0  41.0   \n",
            "\n",
            "     DiabetesPedigreeFunction  Age  Outcome  \n",
            "20                      0.727   41        1  \n",
            "75                      0.140   22        0  \n",
            "182                     0.299   21        0  \n",
            "342                     0.389   22        0  \n",
            "349                     0.346   37        1  \n",
            "Index([20, 75, 182, 342, 349, 502, 812, 819, 972, 1340, 1595, 1602, 1896], dtype='int64')\n"
          ]
        }
      ]
    },
    {
      "cell_type": "code",
      "source": [
        "quartile1 = df[\"Glucose\"].quantile(0.25)\n",
        "quartile3 = df[\"Glucose\"].quantile(0.75)\n",
        "interquantile_range = quartile3 - quartile1\n",
        "up = quartile3 + 1.5 * interquantile_range\n",
        "low = quartile1 - 1.5 * interquantile_range"
      ],
      "metadata": {
        "id": "9oLl4EJg1rEn"
      },
      "execution_count": 45,
      "outputs": []
    },
    {
      "cell_type": "code",
      "source": [
        "# Removing Outliers\n",
        "def remove_outlier(dataframe, col_name):\n",
        "    quartile1 = dataframe[col_name].quantile(0.25)\n",
        "    quartile3 = dataframe[col_name].quantile(0.75)\n",
        "    interquantile_range = quartile3 - quartile1\n",
        "    up = quartile3 + 1.5 * interquantile_range\n",
        "    low = quartile1 - 1.5 * interquantile_range\n",
        "    df_without_outliers = dataframe[~((dataframe[col_name] < low) | (dataframe[col_name] > up))]\n",
        "    return df_without_outliers"
      ],
      "metadata": {
        "id": "qhx7WEoa2eoU"
      },
      "execution_count": 46,
      "outputs": []
    },
    {
      "cell_type": "code",
      "source": [
        "cat_cols, num_cols, cat_but_car = grab_col_names(df)"
      ],
      "metadata": {
        "id": "Z-t308Aa2rH6",
        "colab": {
          "base_uri": "https://localhost:8080/"
        },
        "outputId": "a36f9350-73c8-4cbc-9b02-7b8a6e0eb712"
      },
      "execution_count": 47,
      "outputs": [
        {
          "output_type": "stream",
          "name": "stdout",
          "text": [
            "Observations: 2000\n",
            "Variables: 9\n",
            "cat_cols: 1\n",
            "num_cols: 8\n",
            "cat_but_car: 0\n",
            "num_but_cat: 1\n"
          ]
        }
      ]
    },
    {
      "cell_type": "code",
      "source": [
        "for col in num_cols:\n",
        "    df = remove_outlier(df, col)\n",
        "\n",
        "print(df.shape)"
      ],
      "metadata": {
        "id": "JLNcP3wV2xG5",
        "colab": {
          "base_uri": "https://localhost:8080/"
        },
        "outputId": "6b1b066c-3e74-4c8a-d2eb-16112a272bca"
      },
      "execution_count": 48,
      "outputs": [
        {
          "output_type": "stream",
          "name": "stdout",
          "text": [
            "(1655, 9)\n"
          ]
        }
      ]
    },
    {
      "cell_type": "code",
      "source": [
        "def replace_with_thresholds(dataframe, variable):\n",
        "    quartile1 = dataframe[variable].quantile(0.25)\n",
        "    quartile3 = dataframe[variable].quantile(0.75)\n",
        "    interquantile_range = quartile3 - quartile1\n",
        "    up = quartile3 + 1.5 * interquantile_range\n",
        "    low = quartile1 - 1.5 * interquantile_range\n",
        "    dataframe.loc[(dataframe[variable] < low), variable] = low\n",
        "    dataframe.loc[(dataframe[variable] > up), variable] = up"
      ],
      "metadata": {
        "id": "-E_DC_RM22-1"
      },
      "execution_count": 49,
      "outputs": []
    },
    {
      "cell_type": "code",
      "source": [
        "cat_cols, num_cols, cat_but_car = grab_col_names(df)"
      ],
      "metadata": {
        "id": "r01_H_ef3I0J",
        "colab": {
          "base_uri": "https://localhost:8080/"
        },
        "outputId": "14a638f6-c5e0-48d6-c657-46c4b00b1603"
      },
      "execution_count": 50,
      "outputs": [
        {
          "output_type": "stream",
          "name": "stdout",
          "text": [
            "Observations: 1655\n",
            "Variables: 9\n",
            "cat_cols: 1\n",
            "num_cols: 8\n",
            "cat_but_car: 0\n",
            "num_but_cat: 1\n"
          ]
        }
      ]
    },
    {
      "cell_type": "code",
      "source": [
        "for col in num_cols:\n",
        "    replace_with_thresholds(df, col)"
      ],
      "metadata": {
        "id": "LVtaD-YO3Mjy"
      },
      "execution_count": 51,
      "outputs": []
    },
    {
      "cell_type": "code",
      "source": [
        "for col in num_cols:\n",
        "    print(col, print(df[(df[col] < low) | (df[col] > up)].any(axis=None)))"
      ],
      "metadata": {
        "id": "vF6n7zNf3Y2J",
        "colab": {
          "base_uri": "https://localhost:8080/"
        },
        "outputId": "205a0cd5-ce37-488f-b6bb-19a5bfbb50a4"
      },
      "execution_count": 52,
      "outputs": [
        {
          "output_type": "stream",
          "name": "stdout",
          "text": [
            "True\n",
            "Pregnancies None\n",
            "False\n",
            "Glucose None\n",
            "False\n",
            "BloodPressure None\n",
            "True\n",
            "SkinThickness None\n",
            "True\n",
            "Insulin None\n",
            "True\n",
            "BMI None\n",
            "True\n",
            "DiabetesPedigreeFunction None\n",
            "True\n",
            "Age None\n"
          ]
        }
      ]
    },
    {
      "cell_type": "code",
      "source": [
        "df = df.select_dtypes(include=['float64', 'int64'])\n",
        "df = df.dropna()\n",
        "clf = LocalOutlierFactor(n_neighbors=20)\n",
        "clf.fit_predict(df)\n",
        "df_scores = clf.negative_outlier_factor_\n",
        "print(df_scores)"
      ],
      "metadata": {
        "id": "4HMv8nzk5ik7",
        "colab": {
          "base_uri": "https://localhost:8080/"
        },
        "outputId": "78c40f56-9c63-4e81-ef5d-279faa10527b"
      },
      "execution_count": 53,
      "outputs": [
        {
          "output_type": "stream",
          "name": "stdout",
          "text": [
            "[-1.1940179  -1.18094315 -1.03123267 ... -1.06723712 -1.09754303\n",
            " -0.99421258]\n"
          ]
        }
      ]
    },
    {
      "cell_type": "code",
      "source": [
        "scores = pd.DataFrame(np.sort(df_scores))\n",
        "scores.plot(stacked=True, xlim=[0, 20], style='.-')\n",
        "plt.show()"
      ],
      "metadata": {
        "id": "KBi3DuAq5jkw",
        "colab": {
          "base_uri": "https://localhost:8080/",
          "height": 430
        },
        "outputId": "2f947978-7710-4ad5-eddb-8c52def25fcc"
      },
      "execution_count": 54,
      "outputs": [
        {
          "output_type": "display_data",
          "data": {
            "text/plain": [
              "<Figure size 640x480 with 1 Axes>"
            ],
            "image/png": "[encoded data removed]"
          },
          "metadata": {}
        }
      ]
    },
    {
      "cell_type": "code",
      "source": [
        "threshold = np.sort(df_scores)[6] #graph becomes stable at 6th point\n",
        "print(df[df_scores < threshold])"
      ],
      "metadata": {
        "id": "gW4j26wz5_u0",
        "colab": {
          "base_uri": "https://localhost:8080/"
        },
        "outputId": "a0726884-3b92-4dd1-c6a9-e17378f24828"
      },
      "execution_count": 55,
      "outputs": [
        {
          "output_type": "stream",
          "name": "stdout",
          "text": [
            "      Pregnancies  Glucose  BloodPressure  SkinThickness  Insulin   BMI  \\\n",
            "62            5.0     44.0             62              0        0  25.0   \n",
            "672          10.0     68.0            104             23       49  35.5   \n",
            "1129         10.0     68.0            104             23       49  35.5   \n",
            "1760         10.0     68.0            104             23       49  35.5   \n",
            "1883          5.0     44.0             62              0        0  25.0   \n",
            "\n",
            "      DiabetesPedigreeFunction   Age  Outcome  \n",
            "62                       0.587  36.0        0  \n",
            "672                      0.285  47.0        0  \n",
            "1129                     0.285  47.0        0  \n",
            "1760                     0.285  47.0        0  \n",
            "1883                     0.587  36.0        0  \n"
          ]
        }
      ]
    },
    {
      "cell_type": "code",
      "source": [
        "print(df.drop(axis=0, labels=df[df_scores < threshold].index).shape)"
      ],
      "metadata": {
        "id": "lCd0BCuT6MYT",
        "colab": {
          "base_uri": "https://localhost:8080/"
        },
        "outputId": "cfd8e1cf-7d45-4036-dd84-4eeee881e66b"
      },
      "execution_count": 56,
      "outputs": [
        {
          "output_type": "stream",
          "name": "stdout",
          "text": [
            "(1650, 9)\n"
          ]
        }
      ]
    }
  ]
}