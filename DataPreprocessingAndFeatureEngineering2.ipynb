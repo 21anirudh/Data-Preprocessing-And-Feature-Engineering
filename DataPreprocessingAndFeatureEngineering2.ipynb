{
  "nbformat": 4,
  "nbformat_minor": 0,
  "metadata": {
    "colab": {
      "provenance": [],
      "authorship_tag": "ABX9TyNu2oviq1lB7VSfYwvB/9yL",
      "include_colab_link": true
    },
    "kernelspec": {
      "name": "python3",
      "display_name": "Python 3"
    },
    "language_info": {
      "name": "python"
    }
  },
  "cells": [
    {
      "cell_type": "markdown",
      "metadata": {
        "id": "view-in-github",
        "colab_type": "text"
      },
      "source": [
        "<a href=\"https://colab.research.google.com/github/21anirudh/Data-Preprocessing-And-Feature-Engineering/blob/main/DataPreprocessingAndFeatureEngineering2.ipynb\" target=\"_parent\"><img src=\"https://colab.research.google.com/assets/colab-badge.svg\" alt=\"Open In Colab\"/></a>"
      ]
    },
    {
      "cell_type": "code",
      "execution_count": 60,
      "metadata": {
        "id": "4M4V6cJeD4OE"
      },
      "outputs": [],
      "source": [
        "import numpy as np\n",
        "import pandas as pd\n",
        "import seaborn as sns\n",
        "from sklearn.model_selection import train_test_split\n",
        "from sklearn.preprocessing import StandardScaler, LabelEncoder"
      ]
    },
    {
      "cell_type": "code",
      "source": [
        "df = pd.read_csv('AirQualityUCI.csv', sep=';', decimal=',')"
      ],
      "metadata": {
        "id": "8qfhwcsdE5xn"
      },
      "execution_count": 61,
      "outputs": []
    },
    {
      "cell_type": "code",
      "source": [
        "print(df.info())\n",
        "print(df.describe())"
      ],
      "metadata": {
        "id": "HSpj_LTiE6AP",
        "colab": {
          "base_uri": "https://localhost:8080/"
        },
        "outputId": "73674c0b-8eab-46ab-833f-4bc474190540"
      },
      "execution_count": 62,
      "outputs": [
        {
          "output_type": "stream",
          "name": "stdout",
          "text": [
            "<class 'pandas.core.frame.DataFrame'>\n",
            "RangeIndex: 9471 entries, 0 to 9470\n",
            "Data columns (total 17 columns):\n",
            " #   Column         Non-Null Count  Dtype  \n",
            "---  ------         --------------  -----  \n",
            " 0   Date           9357 non-null   object \n",
            " 1   Time           9357 non-null   object \n",
            " 2   CO(GT)         9357 non-null   float64\n",
            " 3   PT08.S1(CO)    9357 non-null   float64\n",
            " 4   NMHC(GT)       9357 non-null   float64\n",
            " 5   C6H6(GT)       9357 non-null   float64\n",
            " 6   PT08.S2(NMHC)  9357 non-null   float64\n",
            " 7   NOx(GT)        9357 non-null   float64\n",
            " 8   PT08.S3(NOx)   9357 non-null   float64\n",
            " 9   NO2(GT)        9357 non-null   float64\n",
            " 10  PT08.S4(NO2)   9357 non-null   float64\n",
            " 11  PT08.S5(O3)    9357 non-null   float64\n",
            " 12  T              9357 non-null   float64\n",
            " 13  RH             9357 non-null   float64\n",
            " 14  AH             9357 non-null   float64\n",
            " 15  Unnamed: 15    0 non-null      float64\n",
            " 16  Unnamed: 16    0 non-null      float64\n",
            "dtypes: float64(15), object(2)\n",
            "memory usage: 1.2+ MB\n",
            "None\n",
            "            CO(GT)  PT08.S1(CO)     NMHC(GT)     C6H6(GT)  PT08.S2(NMHC)  \\\n",
            "count  9357.000000  9357.000000  9357.000000  9357.000000    9357.000000   \n",
            "mean    -34.207524  1048.990061  -159.090093     1.865683     894.595276   \n",
            "std      77.657170   329.832710   139.789093    41.380206     342.333252   \n",
            "min    -200.000000  -200.000000  -200.000000  -200.000000    -200.000000   \n",
            "25%       0.600000   921.000000  -200.000000     4.000000     711.000000   \n",
            "50%       1.500000  1053.000000  -200.000000     7.900000     895.000000   \n",
            "75%       2.600000  1221.000000  -200.000000    13.600000    1105.000000   \n",
            "max      11.900000  2040.000000  1189.000000    63.700000    2214.000000   \n",
            "\n",
            "           NOx(GT)  PT08.S3(NOx)      NO2(GT)  PT08.S4(NO2)  PT08.S5(O3)  \\\n",
            "count  9357.000000   9357.000000  9357.000000   9357.000000  9357.000000   \n",
            "mean    168.616971    794.990168    58.148873   1391.479641   975.072032   \n",
            "std     257.433866    321.993552   126.940455    467.210125   456.938184   \n",
            "min    -200.000000   -200.000000  -200.000000   -200.000000  -200.000000   \n",
            "25%      50.000000    637.000000    53.000000   1185.000000   700.000000   \n",
            "50%     141.000000    794.000000    96.000000   1446.000000   942.000000   \n",
            "75%     284.000000    960.000000   133.000000   1662.000000  1255.000000   \n",
            "max    1479.000000   2683.000000   340.000000   2775.000000  2523.000000   \n",
            "\n",
            "                 T           RH           AH  Unnamed: 15  Unnamed: 16  \n",
            "count  9357.000000  9357.000000  9357.000000          0.0          0.0  \n",
            "mean      9.778305    39.485380    -6.837604          NaN          NaN  \n",
            "std      43.203623    51.216145    38.976670          NaN          NaN  \n",
            "min    -200.000000  -200.000000  -200.000000          NaN          NaN  \n",
            "25%      10.900000    34.100000     0.692300          NaN          NaN  \n",
            "50%      17.200000    48.600000     0.976800          NaN          NaN  \n",
            "75%      24.100000    61.900000     1.296200          NaN          NaN  \n",
            "max      44.600000    88.700000     2.231000          NaN          NaN  \n"
          ]
        }
      ]
    },
    {
      "cell_type": "code",
      "source": [
        "df = df.dropna(axis=1, how='all')\n",
        "df = df.drop(columns=['Date','Time', 'NMHC(GT)'])"
      ],
      "metadata": {
        "id": "6bcoWfpYE6CX"
      },
      "execution_count": 63,
      "outputs": []
    },
    {
      "cell_type": "code",
      "source": [
        "print(df.info())\n",
        "print(df.describe())"
      ],
      "metadata": {
        "colab": {
          "base_uri": "https://localhost:8080/"
        },
        "id": "MYjLC-AuJIeo",
        "outputId": "e923a703-2292-4e3f-9c95-79fbef76e876"
      },
      "execution_count": 64,
      "outputs": [
        {
          "output_type": "stream",
          "name": "stdout",
          "text": [
            "<class 'pandas.core.frame.DataFrame'>\n",
            "RangeIndex: 9471 entries, 0 to 9470\n",
            "Data columns (total 12 columns):\n",
            " #   Column         Non-Null Count  Dtype  \n",
            "---  ------         --------------  -----  \n",
            " 0   CO(GT)         9357 non-null   float64\n",
            " 1   PT08.S1(CO)    9357 non-null   float64\n",
            " 2   C6H6(GT)       9357 non-null   float64\n",
            " 3   PT08.S2(NMHC)  9357 non-null   float64\n",
            " 4   NOx(GT)        9357 non-null   float64\n",
            " 5   PT08.S3(NOx)   9357 non-null   float64\n",
            " 6   NO2(GT)        9357 non-null   float64\n",
            " 7   PT08.S4(NO2)   9357 non-null   float64\n",
            " 8   PT08.S5(O3)    9357 non-null   float64\n",
            " 9   T              9357 non-null   float64\n",
            " 10  RH             9357 non-null   float64\n",
            " 11  AH             9357 non-null   float64\n",
            "dtypes: float64(12)\n",
            "memory usage: 888.0 KB\n",
            "None\n",
            "            CO(GT)  PT08.S1(CO)     C6H6(GT)  PT08.S2(NMHC)      NOx(GT)  \\\n",
            "count  9357.000000  9357.000000  9357.000000    9357.000000  9357.000000   \n",
            "mean    -34.207524  1048.990061     1.865683     894.595276   168.616971   \n",
            "std      77.657170   329.832710    41.380206     342.333252   257.433866   \n",
            "min    -200.000000  -200.000000  -200.000000    -200.000000  -200.000000   \n",
            "25%       0.600000   921.000000     4.000000     711.000000    50.000000   \n",
            "50%       1.500000  1053.000000     7.900000     895.000000   141.000000   \n",
            "75%       2.600000  1221.000000    13.600000    1105.000000   284.000000   \n",
            "max      11.900000  2040.000000    63.700000    2214.000000  1479.000000   \n",
            "\n",
            "       PT08.S3(NOx)      NO2(GT)  PT08.S4(NO2)  PT08.S5(O3)            T  \\\n",
            "count   9357.000000  9357.000000   9357.000000  9357.000000  9357.000000   \n",
            "mean     794.990168    58.148873   1391.479641   975.072032     9.778305   \n",
            "std      321.993552   126.940455    467.210125   456.938184    43.203623   \n",
            "min     -200.000000  -200.000000   -200.000000  -200.000000  -200.000000   \n",
            "25%      637.000000    53.000000   1185.000000   700.000000    10.900000   \n",
            "50%      794.000000    96.000000   1446.000000   942.000000    17.200000   \n",
            "75%      960.000000   133.000000   1662.000000  1255.000000    24.100000   \n",
            "max     2683.000000   340.000000   2775.000000  2523.000000    44.600000   \n",
            "\n",
            "                RH           AH  \n",
            "count  9357.000000  9357.000000  \n",
            "mean     39.485380    -6.837604  \n",
            "std      51.216145    38.976670  \n",
            "min    -200.000000  -200.000000  \n",
            "25%      34.100000     0.692300  \n",
            "50%      48.600000     0.976800  \n",
            "75%      61.900000     1.296200  \n",
            "max      88.700000     2.231000  \n"
          ]
        }
      ]
    },
    {
      "cell_type": "code",
      "source": [
        "df = df.fillna(df.median())"
      ],
      "metadata": {
        "id": "1qJttKhtE6Eu"
      },
      "execution_count": 65,
      "outputs": []
    },
    {
      "cell_type": "code",
      "source": [
        "df.info()"
      ],
      "metadata": {
        "id": "3kmR8JZFFicR",
        "colab": {
          "base_uri": "https://localhost:8080/"
        },
        "outputId": "a722ffbd-4d5e-47b0-b433-9057b180bdb4"
      },
      "execution_count": 66,
      "outputs": [
        {
          "output_type": "stream",
          "name": "stdout",
          "text": [
            "<class 'pandas.core.frame.DataFrame'>\n",
            "RangeIndex: 9471 entries, 0 to 9470\n",
            "Data columns (total 12 columns):\n",
            " #   Column         Non-Null Count  Dtype  \n",
            "---  ------         --------------  -----  \n",
            " 0   CO(GT)         9471 non-null   float64\n",
            " 1   PT08.S1(CO)    9471 non-null   float64\n",
            " 2   C6H6(GT)       9471 non-null   float64\n",
            " 3   PT08.S2(NMHC)  9471 non-null   float64\n",
            " 4   NOx(GT)        9471 non-null   float64\n",
            " 5   PT08.S3(NOx)   9471 non-null   float64\n",
            " 6   NO2(GT)        9471 non-null   float64\n",
            " 7   PT08.S4(NO2)   9471 non-null   float64\n",
            " 8   PT08.S5(O3)    9471 non-null   float64\n",
            " 9   T              9471 non-null   float64\n",
            " 10  RH             9471 non-null   float64\n",
            " 11  AH             9471 non-null   float64\n",
            "dtypes: float64(12)\n",
            "memory usage: 888.0 KB\n"
          ]
        }
      ]
    },
    {
      "cell_type": "code",
      "source": [
        "num_cols = df.columns[:-1]\n",
        "scaler = StandardScaler()\n",
        "df[num_cols] = scaler.fit_transform(df[num_cols])"
      ],
      "metadata": {
        "id": "XZVYu4tNJOAQ"
      },
      "execution_count": 67,
      "outputs": []
    },
    {
      "cell_type": "code",
      "source": [
        "# Encoding target variable 'CO(GT)' into categories (low, medium, high)\n",
        "df['CO(GT)'] = pd.cut(df['CO(GT)'], bins=[-1, 2, 5, np.inf], labels=['low', 'medium', 'high'])\n",
        "\n",
        "# Encoding categorical variables\n",
        "label_encoder = LabelEncoder()\n",
        "df['CO(GT)'] = label_encoder.fit_transform(df['CO(GT)'])"
      ],
      "metadata": {
        "id": "eyUlg-gjE6G9"
      },
      "execution_count": 68,
      "outputs": []
    },
    {
      "cell_type": "code",
      "source": [
        "X = df.drop(columns='CO(GT)').values\n",
        "y = df['CO(GT)'].values"
      ],
      "metadata": {
        "id": "3OhxGtEnFPAc"
      },
      "execution_count": 69,
      "outputs": []
    },
    {
      "cell_type": "code",
      "source": [
        "X_train, X_test, y_train, y_test = train_test_split(X, y, test_size=0.3, random_state=0)\n",
        "\n",
        "print(f\"X_train shape: {X_train.shape}\")\n",
        "print(f\"X_test shape: {X_test.shape}\")\n",
        "print(f\"y_train shape: {y_train.shape}\")\n",
        "print(f\"y_test shape: {y_test.shape}\")"
      ],
      "metadata": {
        "id": "QdR3uEN3FRF-",
        "colab": {
          "base_uri": "https://localhost:8080/"
        },
        "outputId": "45a5668c-9b77-4297-c8dc-28437c48c846"
      },
      "execution_count": 70,
      "outputs": [
        {
          "output_type": "stream",
          "name": "stdout",
          "text": [
            "X_train shape: (6629, 11)\n",
            "X_test shape: (2842, 11)\n",
            "y_train shape: (6629,)\n",
            "y_test shape: (2842,)\n"
          ]
        }
      ]
    }
  ]
}